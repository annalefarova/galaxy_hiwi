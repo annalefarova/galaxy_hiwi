{
 "metadata": {
  "language_info": {
   "codemirror_mode": {
    "name": "ipython",
    "version": 3
   },
   "file_extension": ".py",
   "mimetype": "text/x-python",
   "name": "python",
   "nbconvert_exporter": "python",
   "pygments_lexer": "ipython3",
   "version": "3.7.9-final"
  },
  "orig_nbformat": 2,
  "kernelspec": {
   "name": "python3",
   "display_name": "Python 3.7.9 64-bit ('hiwi': conda)",
   "metadata": {
    "interpreter": {
     "hash": "adad964d7a2a644e32d3bd0abe11302cb18afba9f1ae59975419591050660b91"
    }
   }
  }
 },
 "nbformat": 4,
 "nbformat_minor": 2,
 "cells": [
  {
   "cell_type": "code",
   "execution_count": 1,
   "metadata": {},
   "outputs": [],
   "source": [
    "import os\n",
    "import pandas\n",
    "import pyteomics\n",
    "\n",
    "from pyteomics.mztab import MzTab"
   ]
  },
  {
   "cell_type": "code",
   "execution_count": 10,
   "metadata": {},
   "outputs": [],
   "source": [
    "a = 4\n",
    "b = 5\n",
    "c = 3"
   ]
  },
  {
   "cell_type": "code",
   "execution_count": 2,
   "metadata": {},
   "outputs": [],
   "source": [
    "import mztab_processing.\n",
    "import mztab_dfsfsd"
   ]
  },
  {
   "source": [
    "def test_func(x):\n",
    "    return x*x"
   ],
   "cell_type": "code",
   "metadata": {},
   "execution_count": 11,
   "outputs": []
  },
  {
   "cell_type": "code",
   "execution_count": 6,
   "metadata": {},
   "outputs": [
    {
     "output_type": "execute_result",
     "data": {
      "text/plain": [
       "<module 'ntpath' from 'C:\\\\Users\\\\Anna\\\\anaconda3\\\\envs\\\\hiwi\\\\lib\\\\ntpath.py'>"
      ]
     },
     "metadata": {},
     "execution_count": 6
    }
   ],
   "source": [
    "os.path"
   ]
  },
  {
   "cell_type": "code",
   "execution_count": 15,
   "metadata": {},
   "outputs": [
    {
     "output_type": "execute_result",
     "data": {
      "text/plain": [
       "'c:\\\\Users\\\\Anna\\\\projects\\\\galaxy_hiwi\\\\notebooks\\\\..\\\\data\\\\AccurateMassSearch.mztab'"
      ]
     },
     "metadata": {},
     "execution_count": 15
    }
   ],
   "source": [
    "file_path"
   ]
  },
  {
   "cell_type": "code",
   "execution_count": 14,
   "metadata": {
    "tags": [
     "outputPrepend"
    ]
   },
   "outputs": [
    {
     "output_type": "stream",
     "name": "stdout",
     "text": [
      "33537283862517\\tM+3Na;3+\\t-1\\t948.854980321563971\\t3536\\n', 'SML\\tHMDB:HMDB06737\\tC49H84O2\\tCCCCC\\\\C=C/C\\\\C=C/CCCCCCCCCCCC(=O)O[C@H]1CC[C@]2(C)C3CC[C@]4(C)C(CCC4C3CC=C2C1)[C@H](C)CCCC(C)C\\tInChI=1S/C49H84O2/c1-7-8-9-10-11-12-13-14-15-16-17-18-19-20-21-22-23-24-25-29-47(50)51-42-34-36-48(5)41(38-42)30-31-43-45-33-32-44(40(4)28-26-27-39(2)3)49(45,6)37-35-46(43)48/h11-12,14-15,30,39-40,42-46H,7-10,13,16-29,31-38H2,1-6H3/b12-11-,15-14-/t40-,42+,43?,44?,45?,46?,48+,49-/m1/s1\\tCE(22:2(13Z,16Z))\\t353.330595909457486\\t353.330842417995655\\t2\\t1416.3079833984375\\tnull\\tnull\\tHMDB\\t3.5\\tnull\\t[, , AccurateMassSearch, ]\\tnull\\tnull\\tnull\\t0.0\\t0.0\\t0.0\\t0.0\\t0.0\\t0.0\\t0.0\\t0.0\\t0.0\\t155.475234985351563\\t0.0\\t0.0\\t0.0\\t0.0\\t0.0\\t0.0\\t0.0\\t0.0\\t-0.697670592472739\\tM+2H;2+\\t-1\\t704.646638914923642\\t3537\\n', 'SML\\tHMDB:HMDB07383\\tC47H92O5\\t[H][C@](CO)(COC(=O)CCCCCCCCCCCCCCCCCCC)OC(=O)CCCCCCCCCCCCCCCCCCCCCCC\\tInChI=1S/C47H92O5/c1-3-5-7-9-11-13-15-17-19-21-22-23-24-26-28-30-32-34-36-38-40-42-47(50)52-45(43-48)44-51-46(49)41-39-37-35-33-31-29-27-25-20-18-16-14-12-10-8-6-4-2/h45,48H,3-44H2,1-2H3/t45-/m0/s1\\tDG(20:0/24:0/0:0)\\t369.354014525802597\\t369.354514478995668\\t2\\t1424.089163120017702\\tnull\\tnull\\tHMDB\\t3.5\\tnull\\t[, , AccurateMassSearch, ]\\tnull\\tnull\\tnull\\t412.928924560546875\\t0.0\\t0.0\\t0.0\\t0.0\\t0.0\\t0.0\\t0.0\\t0.0\\t0.0\\t0.0\\t0.0\\t0.0\\t0.0\\t0.0\\t1036.2938232421875\\t0.0\\t0.0\\t-1.353586252427286\\tM+2H;2+\\t-1\\t736.693476147613865\\t3539\\n', 'SML\\tHMDB:HMDB07608\\tC47H92O5\\t[H][C@](CO)(COC(=O)CCCCCCCCCCCCCCCCCCCCC)OC(=O)CCCCCCCCCCCCCCCCCCCCC\\tInChI=1S/C47H92O5/c1-3-5-7-9-11-13-15-17-19-21-23-25-27-29-31-33-35-37-39-41-46(49)51-44-45(43-48)52-47(50)42-40-38-36-34-32-30-28-26-24-22-20-18-16-14-12-10-8-6-4-2/h45,48H,3-44H2,1-2H3/t45-/m0/s1\\tDG(22:0/22:0/0:0)\\t369.354014525802597\\t369.354514478995668\\t2\\t1424.089163120017702\\tnull\\tnull\\tHMDB\\t3.5\\tnull\\t[, , AccurateMassSearch, ]\\tnull\\tnull\\tnull\\t412.928924560546875\\t0.0\\t0.0\\t0.0\\t0.0\\t0.0\\t0.0\\t0.0\\t0.0\\t0.0\\t0.0\\t0.0\\t0.0\\t0.0\\t0.0\\t1036.2938232421875\\t0.0\\t0.0\\t-1.353586252427286\\tM+2H;2+\\t-1\\t736.693476147613865\\t3539\\n', 'SML\\tHMDB:HMDB07803\\tC47H92O5\\t[H][C@](CO)(COC(=O)CCCCCCCCCCCCCCCCCCCCCCC)OC(=O)CCCCCCCCCCCCCCCCCCC\\tInChI=1S/C47H92O5/c1-3-5-7-9-11-13-15-17-19-21-22-23-24-26-27-29-31-33-35-37-39-41-46(49)51-44-45(43-48)52-47(50)42-40-38-36-34-32-30-28-25-20-18-16-14-12-10-8-6-4-2/h45,48H,3-44H2,1-2H3/t45-/m0/s1\\tDG(24:0/20:0/0:0)\\t369.354014525802597\\t369.354514478995668\\t2\\t1424.089163120017702\\tnull\\tnull\\tHMDB\\t3.5\\tnull\\t[, , AccurateMassSearch, ]\\tnull\\tnull\\tnull\\t412.928924560546875\\t0.0\\t0.0\\t0.0\\t0.0\\t0.0\\t0.0\\t0.0\\t0.0\\t0.0\\t0.0\\t0.0\\t0.0\\t0.0\\t0.0\\t1036.2938232421875\\t0.0\\t0.0\\t-1.353586252427286\\tM+2H;2+\\t-1\\t736.693476147613865\\t3539\\n', 'SML\\tHMDB:HMDB56064\\tC47H92O5\\tCCCCCCCCCCCCCCCCCCCCCCCC(=O)OCC(O)COC(=O)CCCCCCCCCCCCCCCCCCC\\tInChI=1S/C47H92O5/c1-3-5-7-9-11-13-15-17-19-21-22-23-24-26-28-30-32-34-36-38-40-42-47(50)52-44-45(48)43-51-46(49)41-39-37-35-33-31-29-27-25-20-18-16-14-12-10-8-6-4-2/h45,48H,3-44H2,1-2H3\\tDG(20:0/0:0/24:0)\\t369.354014525802597\\t369.354514478995668\\t2\\t1424.089163120017702\\tnull\\tnull\\tHMDB\\t3.5\\tnull\\t[, , AccurateMassSearch, ]\\tnull\\tnull\\tnull\\t412.928924560546875\\t0.0\\t0.0\\t0.0\\t0.0\\t0.0\\t0.0\\t0.0\\t0.0\\t0.0\\t0.0\\t0.0\\t0.0\\t0.0\\t0.0\\t1036.2938232421875\\t0.0\\t0.0\\t-1.353586252427286\\tM+2H;2+\\t-1\\t736.693476147613865\\t3539\\n', 'SML\\tHMDB:HMDB56087\\tC47H92O5\\tCCCCCCCCCCCCCCCCCCCCCC(=O)OCC(O)COC(=O)CCCCCCCCCCCCCCCCCCCCC\\tInChI=1S/C47H92O5/c1-3-5-7-9-11-13-15-17-19-21-23-25-27-29-31-33-35-37-39-41-46(49)51-43-45(48)44-52-47(50)42-40-38-36-34-32-30-28-26-24-22-20-18-16-14-12-10-8-6-4-2/h45,48H,3-44H2,1-2H3\\tDG(22:0/0:0/22:0)\\t369.354014525802597\\t369.354514478995668\\t2\\t1424.089163120017702\\tnull\\tnull\\tHMDB\\t3.5\\tnull\\t[, , AccurateMassSearch, ]\\tnull\\tnull\\tnull\\t412.928924560546875\\t0.0\\t0.0\\t0.0\\t0.0\\t0.0\\t0.0\\t0.0\\t0.0\\t0.0\\t0.0\\t0.0\\t0.0\\t0.0\\t0.0\\t1036.2938232421875\\t0.0\\t0.0\\t-1.353586252427286\\tM+2H;2+\\t-1\\t736.693476147613865\\t3539\\n', 'SML\\tHMDB:HMDB44841\\tC69H132O6\\tCCCCCCCCCCCCCCCCCCCCCCCC(=O)OC(COC(=O)CCCCCCCCCCCCCCCCC)COC(=O)CCCCCCCCCCCCC\\\\C=C/CCCCCCCC\\tInChI=1S/C69H132O6/c1-4-7-10-13-16-19-22-25-28-30-32-34-36-38-41-44-47-50-53-56-59-62-68(71)74-65-66(64-73-67(70)61-58-55-52-49-46-43-40-27-24-21-18-15-12-9-6-3)75-69(72)63-60-57-54-51-48-45-42-39-37-35-33-31-29-26-23-20-17-14-11-8-5-2/h25,28,66H,4-24,26-27,29-65H2,1-3H3/b28-25-\\tTG(18:0/24:0/24:1(15Z))\\t353.342966753673124\\t353.341407105329097\\t3\\t1425.360660201096152\\tnull\\tnull\\tHMDB\\t3.5\\tnull\\t[, , AccurateMassSearch, ]\\tnull\\tnull\\tnull\\t0.0\\t0.0\\t0.0\\t215.439132690429688\\t0.0\\t0.0\\t0.0\\t0.0\\t0.0\\t1002.47735595703125\\t0.0\\t0.0\\t365.165924072265625\\t0.0\\t0.0\\t0.0\\t0.0\\t0.0\\t4.413998225695472\\tM+3H;3+\\t-1\\t1057.007070905032151\\t3540\\n', 'SML\\tHMDB:HMDB45049\\tC69H132O6\\tCCCCCCCCCCCCCCCCCCCCCCCC(=O)OCC(COC(=O)CCCCCCCCCCCCCCCCC)OC(=O)CCCCCCCCCCCCC\\\\C=C/CCCCCCCC\\tInChI=1S/C69H132O6/c1-4-7-10-13-16-19-22-25-28-30-32-34-36-38-41-44-47-50-53-56-59-62-68(71)74-65-66(64-73-67(70)61-58-55-52-49-46-43-40-27-24-21-18-15-12-9-6-3)75-69(72)63-60-57-54-51-48-45-42-39-37-35-33-31-29-26-23-20-17-14-11-8-5-2/h26,29,66H,4-25,27-28,30-65H2,1-3H3/b29-26-\\tTG(18:0/24:1(15Z)/24:0)\\t353.342966753673124\\t353.341407105329097\\t3\\t1425.360660201096152\\tnull\\tnull\\tHMDB\\t3.5\\tnull\\t[, , AccurateMassSearch, ]\\tnull\\tnull\\tnull\\t0.0\\t0.0\\t0.0\\t215.439132690429688\\t0.0\\t0.0\\t0.0\\t0.0\\t0.0\\t1002.47735595703125\\t0.0\\t0.0\\t365.165924072265625\\t0.0\\t0.0\\t0.0\\t0.0\\t0.0\\t4.413998225695472\\tM+3H;3+\\t-1\\t1057.007070905032151\\t3540\\n', 'SML\\tHMDB:HMDB45617\\tC69H132O6\\tCCCCCCCCCCCCCCCCCCCCCC(=O)OC(COC(=O)CCCCCCCCCCCCCCCCCCC)COC(=O)CCCCCCCCCCCCC\\\\C=C/CCCCCCCC\\tInChI=1S/C69H132O6/c1-4-7-10-13-16-19-22-25-28-31-33-34-36-38-41-44-47-50-53-56-59-62-68(71)74-65-66(64-73-67(70)61-58-55-52-49-46-43-40-37-30-27-24-21-18-15-12-9-6-3)75-69(72)63-60-57-54-51-48-45-42-39-35-32-29-26-23-20-17-14-11-8-5-2/h25,28,66H,4-24,26-27,29-65H2,1-3H3/b28-25-\\tTG(20:0/22:0/24:1(15Z))\\t353.342966753673124\\t353.341407105329097\\t3\\t1425.360660201096152\\tnull\\tnull\\tHMDB\\t3.5\\tnull\\t[, , AccurateMassSearch, ]\\tnull\\tnull\\tnull\\t0.0\\t0.0\\t0.0\\t215.439132690429688\\t0.0\\t0.0\\t0.0\\t0.0\\t0.0\\t1002.47735595703125\\t0.0\\t0.0\\t365.165924072265625\\t0.0\\t0.0\\t0.0\\t0.0\\t0.0\\t4.413998225695472\\tM+3H;3+\\t-1\\t1057.007070905032151\\t3540\\n', 'SML\\tHMDB:HMDB45642\\tC69H132O6\\tCCCCCCCCCCCCCCCCCCCCCCCC(=O)OC(COC(=O)CCCCCCCCCCCCCCCCCCC)COC(=O)CCCCCCCCCCC\\\\C=C/CCCCCCCC\\tInChI=1S/C69H132O6/c1-4-7-10-13-16-19-22-25-28-31-33-34-36-39-42-45-48-51-54-57-60-63-69(72)75-66(64-73-67(70)61-58-55-52-49-46-43-40-37-30-27-24-21-18-15-12-9-6-3)65-74-68(71)62-59-56-53-50-47-44-41-38-35-32-29-26-23-20-17-14-11-8-5-2/h26,29,66H,4-25,27-28,30-65H2,1-3H3/b29-26-\\tTG(20:0/24:0/22:1(13Z))\\t353.342966753673124\\t353.341407105329097\\t3\\t1425.360660201096152\\tnull\\tnull\\tHMDB\\t3.5\\tnull\\t[, , AccurateMassSearch, ]\\tnull\\tnull\\tnull\\t0.0\\t0.0\\t0.0\\t215.439132690429688\\t0.0\\t0.0\\t0.0\\t0.0\\t0.0\\t1002.47735595703125\\t0.0\\t0.0\\t365.165924072265625\\t0.0\\t0.0\\t0.0\\t0.0\\t0.0\\t4.413998225695472\\tM+3H;3+\\t-1\\t1057.007070905032151\\t3540\\n', 'SML\\tHMDB:HMDB45817\\tC69H132O6\\tCCCCCCCCCCCCCCCCCCCCCCCC(=O)OCC(COC(=O)CCCCCCCCCCCCCCCCCCC)OC(=O)CCCCCCCCCCC\\\\C=C/CCCCCCCC\\tInChI=1S/C69H132O6/c1-4-7-10-13-16-19-22-25-28-31-33-34-36-38-41-44-47-50-53-56-59-62-68(71)74-65-66(64-73-67(70)61-58-55-52-49-46-43-40-37-30-27-24-21-18-15-12-9-6-3)75-69(72)63-60-57-54-51-48-45-42-39-35-32-29-26-23-20-17-14-11-8-5-2/h26,29,66H,4-25,27-28,30-65H2,1-3H3/b29-26-\\tTG(20:0/22:1(13Z)/24:0)\\t353.342966753673124\\t353.341407105329097\\t3\\t1425.360660201096152\\tnull\\tnull\\tHMDB\\t3.5\\tnull\\t[, , AccurateMassSearch, ]\\tnull\\tnull\\tnull\\t0.0\\t0.0\\t0.0\\t215.439132690429688\\t0.0\\t0.0\\t0.0\\t0.0\\t0.0\\t1002.47735595703125\\t0.0\\t0.0\\t365.165924072265625\\t0.0\\t0.0\\t0.0\\t0.0\\t0.0\\t4.413998225695472\\tM+3H;3+\\t-1\\t1057.007070905032151\\t3540\\n', 'SML\\tHMDB:HMDB45842\\tC69H132O6\\tCCCCCCCCCCCCCCCCCCCCCC(=O)OCC(COC(=O)CCCCCCCCCCCCCCCCCCC)OC(=O)CCCCCCCCCCCCC\\\\C=C/CCCCCCCC\\tInChI=1S/C69H132O6/c1-4-7-10-13-16-19-22-25-28-31-33-34-36-39-42-45-48-51-54-57-60-63-69(72)75-66(64-73-67(70)61-58-55-52-49-46-43-40-37-30-27-24-21-18-15-12-9-6-3)65-74-68(71)62-59-56-53-50-47-44-41-38-35-32-29-26-23-20-17-14-11-8-5-2/h25,28,66H,4-24,26-27,29-65H2,1-3H3/b28-25-\\tTG(20:0/24:1(15Z)/22:0)\\t353.342966753673124\\t353.341407105329097\\t3\\t1425.360660201096152\\tnull\\tnull\\tHMDB\\t3.5\\tnull\\t[, , AccurateMassSearch, ]\\tnull\\tnull\\tnull\\t0.0\\t0.0\\t0.0\\t215.439132690429688\\t0.0\\t0.0\\t0.0\\t0.0\\t0.0\\t1002.47735595703125\\t0.0\\t0.0\\t365.165924072265625\\t0.0\\t0.0\\t0.0\\t0.0\\t0.0\\t4.413998225695472\\tM+3H;3+\\t-1\\t1057.007070905032151\\t3540\\n', 'SML\\tHMDB:HMDB46365\\tC69H132O6\\tCCCCCCCCCCCCCCCCCCCCCC(=O)OCC(COC(=O)CCCCCCCCCCCCC\\\\C=C/CCCCCCCC)OC(=O)CCCCCCCCCCCCCCCCCCC\\tInChI=1S/C69H132O6/c1-4-7-10-13-16-19-22-25-28-31-33-34-36-39-41-44-47-50-53-56-59-62-68(71)74-65-66(75-69(72)63-60-57-54-51-48-45-42-37-30-27-24-21-18-15-12-9-6-3)64-73-67(70)61-58-55-52-49-46-43-40-38-35-32-29-26-23-20-17-14-11-8-5-2/h25,28,66H,4-24,26-27,29-65H2,1-3H3/b28-25-\\tTG(22:0/20:0/24:1(15Z))\\t353.342966753673124\\t353.341407105329097\\t3\\t1425.360660201096152\\tnull\\tnull\\tHMDB\\t3.5\\tnull\\t[, , AccurateMassSearch, ]\\tnull\\tnull\\tnull\\t0.0\\t0.0\\t0.0\\t215.439132690429688\\t0.0\\t0.0\\t0.0\\t0.0\\t0.0\\t1002.47735595703125\\t0.0\\t0.0\\t365.165924072265625\\t0.0\\t0.0\\t0.0\\t0.0\\t0.0\\t4.413998225695472\\tM+3H;3+\\t-1\\t1057.007070905032151\\t3540\\n', 'SML\\tHMDB:HMDB46389\\tC69H132O6\\tCCCCCCCCCCCCCCCCCCCCCC(=O)OCC(COC(=O)CCCCCCCCCCC\\\\C=C/CCCCCCCC)OC(=O)CCCCCCCCCCCCCCCCCCCCC\\tInChI=1S/C69H132O6/c1-4-7-10-13-16-19-22-25-28-31-34-37-40-43-46-49-52-55-58-61-67(70)73-64-66(75-69(72)63-60-57-54-51-48-45-42-39-36-33-30-27-24-21-18-15-12-9-6-3)65-74-68(71)62-59-56-53-50-47-44-41-38-35-32-29-26-23-20-17-14-11-8-5-2/h25,28,66H,4-24,26-27,29-65H2,1-3H3/b28-25-\\tTG(22:0/22:0/22:1(13Z))\\t353.342966753673124\\t353.341407105329097\\t3\\t1425.360660201096152\\tnull\\tnull\\tHMDB\\t3.5\\tnull\\t[, , AccurateMassSearch, ]\\tnull\\tnull\\tnull\\t0.0\\t0.0\\t0.0\\t215.439132690429688\\t0.0\\t0.0\\t0.0\\t0.0\\t0.0\\t1002.47735595703125\\t0.0\\t0.0\\t365.165924072265625\\t0.0\\t0.0\\t0.0\\t0.0\\t0.0\\t4.413998225695472\\tM+3H;3+\\t-1\\t1057.007070905032151\\t3540\\n', 'SML\\tHMDB:HMDB46412\\tC69H132O6\\tCCCCCCCCCCCCCCCCCCCCCCCC(=O)OC(COC(=O)CCCCCCCCCCCCCCCCCCCCC)COC(=O)CCCCCCCCC\\\\C=C/CCCCCCCC\\tInChI=1S/C69H132O6/c1-4-7-10-13-16-19-22-25-28-31-33-34-36-39-42-45-48-51-54-57-60-63-69(72)75-66(64-73-67(70)61-58-55-52-49-46-43-40-37-30-27-24-21-18-15-12-9-6-3)65-74-68(71)62-59-56-53-50-47-44-41-38-35-32-29-26-23-20-17-14-11-8-5-2/h27,30,66H,4-26,28-29,31-65H2,1-3H3/b30-27-\\tTG(22:0/24:0/20:1(11Z))\\t353.342966753673124\\t353.341407105329097\\t3\\t1425.360660201096152\\tnull\\tnull\\tHMDB\\t3.5\\tnull\\t[, , AccurateMassSearch, ]\\tnull\\tnull\\tnull\\t0.0\\t0.0\\t0.0\\t215.439132690429688\\t0.0\\t0.0\\t0.0\\t0.0\\t0.0\\t1002.47735595703125\\t0.0\\t0.0\\t365.165924072265625\\t0.0\\t0.0\\t0.0\\t0.0\\t0.0\\t4.413998225695472\\tM+3H;3+\\t-1\\t1057.007070905032151\\t3540\\n', 'SML\\tHMDB:HMDB46532\\tC69H132O6\\tCCCCCCCCCCCCCCCCCCCCCCCC(=O)OCC(COC(=O)CCCCCCCCCCCCCCCCCCCCC)OC(=O)CCCCCCCCC\\\\C=C/CCCCCCCC\\tInChI=1S/C69H132O6/c1-4-7-10-13-16-19-22-25-28-31-33-34-36-39-41-44-47-50-53-56-59-62-68(71)74-65-66(75-69(72)63-60-57-54-51-48-45-42-37-30-27-24-21-18-15-12-9-6-3)64-73-67(70)61-58-55-52-49-46-43-40-38-35-32-29-26-23-20-17-14-11-8-5-2/h27,30,66H,4-26,28-29,31-65H2,1-3H3/b30-27-\\tTG(22:0/20:1(11Z)/24:0)\\t353.342966753673124\\t353.341407105329097\\t3\\t1425.360660201096152\\tnull\\tnull\\tHMDB\\t3.5\\tnull\\t[, , AccurateMassSearch, ]\\tnull\\tnull\\tnull\\t0.0\\t0.0\\t0.0\\t215.439132690429688\\t0.0\\t0.0\\t0.0\\t0.0\\t0.0\\t1002.47735595703125\\t0.0\\t0.0\\t365.165924072265625\\t0.0\\t0.0\\t0.0\\t0.0\\t0.0\\t4.413998225695472\\tM+3H;3+\\t-1\\t1057.007070905032151\\t3540\\n', 'SML\\tHMDB:HMDB46581\\tC69H132O6\\tCCCCCCCCCCCCCCCCCCCCCC(=O)OCC(COC(=O)CCCCCCCCCCCCCCCCCCCCC)OC(=O)CCCCCCCCCCC\\\\C=C/CCCCCCCC\\tInChI=1S/C69H132O6/c1-4-7-10-13-16-19-22-25-28-31-34-37-40-43-46-49-52-55-58-61-67(70)73-64-66(75-69(72)63-60-57-54-51-48-45-42-39-36-33-30-27-24-21-18-15-12-9-6-3)65-74-68(71)62-59-56-53-50-47-44-41-38-35-32-29-26-23-20-17-14-11-8-5-2/h27,30,66H,4-26,28-29,31-65H2,1-3H3/b30-27-\\tTG(22:0/22:1(13Z)/22:0)\\t353.342966753673124\\t353.341407105329097\\t3\\t1425.360660201096152\\tnull\\tnull\\tHMDB\\t3.5\\tnull\\t[, , AccurateMassSearch, ]\\tnull\\tnull\\tnull\\t0.0\\t0.0\\t0.0\\t215.439132690429688\\t0.0\\t0.0\\t0.0\\t0.0\\t0.0\\t1002.47735595703125\\t0.0\\t0.0\\t365.165924072265625\\t0.0\\t0.0\\t0.0\\t0.0\\t0.0\\t4.413998225695472\\tM+3H;3+\\t-1\\t1057.007070905032151\\t3540\\n', 'SML\\tHMDB:HMDB47085\\tC69H132O6\\tCCCCCCCCCCCCCCCCCCCCCCCC(=O)OCC(COC(=O)CCCCCCCCCCCCC\\\\C=C/CCCCCCCC)OC(=O)CCCCCCCCCCCCCCCCC\\tInChI=1S/C69H132O6/c1-4-7-10-13-16-19-22-25-28-30-32-34-36-38-41-43-46-49-52-55-58-61-67(70)73-64-66(75-69(72)63-60-57-54-51-48-45-40-27-24-21-18-15-12-9-6-3)65-74-68(71)62-59-56-53-50-47-44-42-39-37-35-33-31-29-26-23-20-17-14-11-8-5-2/h25,28,66H,4-24,26-27,29-65H2,1-3H3/b28-25-\\tTG(24:0/18:0/24:1(15Z))\\t353.342966753673124\\t353.341407105329097\\t3\\t1425.360660201096152\\tnull\\tnull\\tHMDB\\t3.5\\tnull\\t[, , AccurateMassSearch, ]\\tnull\\tnull\\tnull\\t0.0\\t0.0\\t0.0\\t215.439132690429688\\t0.0\\t0.0\\t0.0\\t0.0\\t0.0\\t1002.47735595703125\\t0.0\\t0.0\\t365.165924072265625\\t0.0\\t0.0\\t0.0\\t0.0\\t0.0\\t4.413998225695472\\tM+3H;3+\\t-1\\t1057.007070905032151\\t3540\\n', 'SML\\tHMDB:HMDB47108\\tC69H132O6\\tCCCCCCCCCCCCCCCCCCCCCCCC(=O)OCC(COC(=O)CCCCCCCCCCC\\\\C=C/CCCCCCCC)OC(=O)CCCCCCCCCCCCCCCCCCC\\tInChI=1S/C69H132O6/c1-4-7-10-13-16-19-22-25-28-31-33-34-36-39-41-44-47-50-53-56-59-62-68(71)74-65-66(75-69(72)63-60-57-54-51-48-45-42-37-30-27-24-21-18-15-12-9-6-3)64-73-67(70)61-58-55-52-49-46-43-40-38-35-32-29-26-23-20-17-14-11-8-5-2/h26,29,66H,4-25,27-28,30-65H2,1-3H3/b29-26-\\tTG(24:0/20:0/22:1(13Z))\\t353.342966753673124\\t353.341407105329097\\t3\\t1425.360660201096152\\tnull\\tnull\\tHMDB\\t3.5\\tnull\\t[, , AccurateMassSearch, ]\\tnull\\tnull\\tnull\\t0.0\\t0.0\\t0.0\\t215.439132690429688\\t0.0\\t0.0\\t0.0\\t0.0\\t0.0\\t1002.47735595703125\\t0.0\\t0.0\\t365.165924072265625\\t0.0\\t0.0\\t0.0\\t0.0\\t0.0\\t4.413998225695472\\tM+3H;3+\\t-1\\t1057.007070905032151\\t3540\\n', 'SML\\tHMDB:HMDB47130\\tC69H132O6\\tCCCCCCCCCCCCCCCCCCCCCCCC(=O)OCC(COC(=O)CCCCCCCCC\\\\C=C/CCCCCCCC)OC(=O)CCCCCCCCCCCCCCCCCCCCC\\tInChI=1S/C69H132O6/c1-4-7-10-13-16-19-22-25-28-31-33-34-36-38-41-44-47-50-53-56-59-62-68(71)74-65-66(64-73-67(70)61-58-55-52-49-46-43-40-37-30-27-24-21-18-15-12-9-6-3)75-69(72)63-60-57-54-51-48-45-42-39-35-32-29-26-23-20-17-14-11-8-5-2/h27,30,66H,4-26,28-29,31-65H2,1-3H3/b30-27-\\tTG(24:0/22:0/20:1(11Z))\\t353.342966753673124\\t353.341407105329097\\t3\\t1425.360660201096152\\tnull\\tnull\\tHMDB\\t3.5\\tnull\\t[, , AccurateMassSearch, ]\\tnull\\tnull\\tnull\\t0.0\\t0.0\\t0.0\\t215.439132690429688\\t0.0\\t0.0\\t0.0\\t0.0\\t0.0\\t1002.47735595703125\\t0.0\\t0.0\\t365.165924072265625\\t0.0\\t0.0\\t0.0\\t0.0\\t0.0\\t4.413998225695472\\tM+3H;3+\\t-1\\t1057.007070905032151\\t3540\\n', 'SML\\tHMDB:HMDB47152\\tC69H132O6\\tCCCCCCCCCCCCCCCCCCCCCCCC(=O)OCC(COC(=O)CCCCCCCCC\\\\C=C/CCCCCC)OC(=O)CCCCCCCCCCCCCCCCCCCCCCC\\tInChI=1S/C69H132O6/c1-4-7-10-13-16-19-22-25-28-30-32-34-36-38-41-44-47-50-53-56-59-62-68(71)74-65-66(64-73-67(70)61-58-55-52-49-46-43-40-27-24-21-18-15-12-9-6-3)75-69(72)63-60-57-54-51-48-45-42-39-37-35-33-31-29-26-23-20-17-14-11-8-5-2/h21,24,66H,4-20,22-23,25-65H2,1-3H3/b24-21-\\tTG(24:0/24:0/18:1(11Z))\\t353.342966753673124\\t353.341407105329097\\t3\\t1425.360660201096152\\tnull\\tnull\\tHMDB\\t3.5\\tnull\\t[, , AccurateMassSearch, ]\\tnull\\tnull\\tnull\\t0.0\\t0.0\\t0.0\\t215.439132690429688\\t0.0\\t0.0\\t0.0\\t0.0\\t0.0\\t1002.47735595703125\\t0.0\\t0.0\\t365.165924072265625\\t0.0\\t0.0\\t0.0\\t0.0\\t0.0\\t4.413998225695472\\tM+3H;3+\\t-1\\t1057.007070905032151\\t3540\\n', 'SML\\tHMDB:HMDB47153\\tC69H132O6\\tCCCCCCCCCCCCCCCCCCCCCCCC(=O)OCC(COC(=O)CCCCCCC\\\\C=C/CCCCCCCC)OC(=O)CCCCCCCCCCCCCCCCCCCCCCC\\tInChI=1S/C69H132O6/c1-4-7-10-13-16-19-22-25-28-30-32-34-36-38-41-44-47-50-53-56-59-62-68(71)74-65-66(64-73-67(70)61-58-55-52-49-46-43-40-27-24-21-18-15-12-9-6-3)75-69(72)63-60-57-54-51-48-45-42-39-37-35-33-31-29-26-23-20-17-14-11-8-5-2/h27,40,66H,4-26,28-39,41-65H2,1-3H3/b40-27-\\tTG(24:0/24:0/18:1(9Z))\\t353.342966753673124\\t353.341407105329097\\t3\\t1425.360660201096152\\tnull\\tnull\\tHMDB\\t3.5\\tnull\\t[, , AccurateMassSearch, ]\\tnull\\tnull\\tnull\\t0.0\\t0.0\\t0.0\\t215.439132690429688\\t0.0\\t0.0\\t0.0\\t0.0\\t0.0\\t1002.47735595703125\\t0.0\\t0.0\\t365.165924072265625\\t0.0\\t0.0\\t0.0\\t0.0\\t0.0\\t4.413998225695472\\tM+3H;3+\\t-1\\t1057.007070905032151\\t3540\\n', 'SML\\tHMDB:HMDB47221\\tC69H132O6\\tCCCCCCCCCCCCCCCCCCCCCCCC(=O)OCC(COC(=O)CCCCCCCCCCCCCCCCCCCCCCC)OC(=O)CCCCCCCCC\\\\C=C/CCCCCC\\tInChI=1S/C69H132O6/c1-4-7-10-13-16-19-22-25-28-30-32-34-36-38-41-43-46-49-52-55-58-61-67(70)73-64-66(75-69(72)63-60-57-54-51-48-45-40-27-24-21-18-15-12-9-6-3)65-74-68(71)62-59-56-53-50-47-44-42-39-37-35-33-31-29-26-23-20-17-14-11-8-5-2/h21,24,66H,4-20,22-23,25-65H2,1-3H3/b24-21-\\tTG(24:0/18:1(11Z)/24:0)\\t353.342966753673124\\t353.341407105329097\\t3\\t1425.360660201096152\\tnull\\tnull\\tHMDB\\t3.5\\tnull\\t[, , AccurateMassSearch, ]\\tnull\\tnull\\tnull\\t0.0\\t0.0\\t0.0\\t215.439132690429688\\t0.0\\t0.0\\t0.0\\t0.0\\t0.0\\t1002.47735595703125\\t0.0\\t0.0\\t365.165924072265625\\t0.0\\t0.0\\t0.0\\t0.0\\t0.0\\t4.413998225695472\\tM+3H;3+\\t-1\\t1057.007070905032151\\t3540\\n', 'SML\\tHMDB:HMDB47245\\tC69H132O6\\tCCCCCCCCCCCCCCCCCCCCCCCC(=O)OCC(COC(=O)CCCCCCCCCCCCCCCCCCCCCCC)OC(=O)CCCCCCC\\\\C=C/CCCCCCCC\\tInChI=1S/C69H132O6/c1-4-7-10-13-16-19-22-25-28-30-32-34-36-38-41-43-46-49-52-55-58-61-67(70)73-64-66(75-69(72)63-60-57-54-51-48-45-40-27-24-21-18-15-12-9-6-3)65-74-68(71)62-59-56-53-50-47-44-42-39-37-35-33-31-29-26-23-20-17-14-11-8-5-2/h27,40,66H,4-26,28-39,41-65H2,1-3H3/b40-27-\\tTG(24:0/18:1(9Z)/24:0)\\t353.342966753673124\\t353.341407105329097\\t3\\t1425.360660201096152\\tnull\\tnull\\tHMDB\\t3.5\\tnull\\t[, , AccurateMassSearch, ]\\tnull\\tnull\\tnull\\t0.0\\t0.0\\t0.0\\t215.439132690429688\\t0.0\\t0.0\\t0.0\\t0.0\\t0.0\\t1002.47735595703125\\t0.0\\t0.0\\t365.165924072265625\\t0.0\\t0.0\\t0.0\\t0.0\\t0.0\\t4.413998225695472\\tM+3H;3+\\t-1\\t1057.007070905032151\\t3540\\n', 'SML\\tHMDB:HMDB35564\\tC23H44O2\\tCCCCCCCCCCCCCCCC(=O)CC(=O)CCCCC\\tInChI=1S/C23H44O2/c1-3-5-7-8-9-10-11-12-13-14-15-16-18-20-23(25)21-22(24)19-17-6-4-2/h3-21H2,1-2H3\\t6,8-Tricosanedione\\t353.342966753673124\\t353.341407103995664\\t1\\t1425.360660201096152\\tnull\\tnull\\tHMDB\\t3.5\\tnull\\t[, , AccurateMassSearch, ]\\tnull\\tnull\\tnull\\t0.0\\t0.0\\t0.0\\t215.439132690429688\\t0.0\\t0.0\\t0.0\\t0.0\\t0.0\\t1002.47735595703125\\t0.0\\t0.0\\t365.165924072265625\\t0.0\\t0.0\\t0.0\\t0.0\\t0.0\\t4.414001999492652\\tM+H;1+\\t-1\\t352.33569030167746\\t3540\\n', 'SML\\tHMDB:HMDB35565\\tC23H44O2\\tCCCCCCCCCCCCCCCCCC(=O)CC(=O)CCC\\tInChI=1S/C23H44O2/c1-3-5-6-7-8-9-10-11-12-13-14-15-16-17-18-20-23(25)21-22(24)19-4-2/h3-21H2,1-2H3\\t4,6-Tricosanedione\\t353.342966753673124\\t353.341407103995664\\t1\\t1425.360660201096152\\tnull\\tnull\\tHMDB\\t3.5\\tnull\\t[, , AccurateMassSearch, ]\\tnull\\tnull\\tnull\\t0.0\\t0.0\\t0.0\\t215.439132690429688\\t0.0\\t0.0\\t0.0\\t0.0\\t0.0\\t1002.47735595703125\\t0.0\\t0.0\\t365.165924072265625\\t0.0\\t0.0\\t0.0\\t0.0\\t0.0\\t4.414001999492652\\tM+H;1+\\t-1\\t352.33569030167746\\t3540\\n', 'SML\\tHMDB:HMDB37781\\tC32H54O5\\tCCOC1CC2C(C)(C)C(=O)CCC2(C)C2=C1C1(C)CCC(C(C)CCC(O)C(C)(O)CO)C1(C)CC2\\tInChI=1S/C32H54O5/c1-9-37-23-18-24-28(3,4)25(34)14-15-29(24,5)22-13-16-30(6)21(12-17-31(30,7)27(22)23)20(2)10-11-26(35)32(8,36)19-33/h20-21,23-24,26,33,35-36H,9-19H2,1-8H3\\tGanoderiol C\\t551.432072974038306\\t551.430616417595729\\t1\\t1426.586036682128906\\tnull\\tnull\\tHMDB\\t3.5\\tnull\\t[, , AccurateMassSearch, ]\\tnull\\tnull\\tnull\\t0.0\\t0.0\\t0.0\\t0.0\\t0.0\\t0.0\\t0.0\\t0.0\\t0.0\\t90.616287231445313\\t0.0\\t0.0\\t0.0\\t0.0\\t0.0\\t0.0\\t0.0\\t0.0\\t2.641413804766947\\tM+CH3OH+H;1+\\t-1\\t518.398581394442545\\t3541\\n', 'SML\\tHMDB:HMDB32545\\tC9H21N\\tCCCN(CCC)CCC\\tInChI=1S/C9H21N/c1-4-7-10(8-5-2)9-6-3/h4-9H2,1-3H3\\tTripropylamine\\t325.294796514911354\\t325.297957454095638\\t1\\t1473.985977172851563\\tnull\\tnull\\tHMDB\\t3.5\\tnull\\t[, , AccurateMassSearch, ]\\tnull\\tnull\\tnull\\t0.0\\t0.0\\t0.0\\t0.0\\t0.0\\t0.0\\t0.0\\t0.0\\t0.0\\t1624.608154296875\\t0.0\\t0.0\\t0.0\\t0.0\\t0.0\\t0.0\\t0.0\\t0.0\\t-9.717058198035447\\t2M+K;1+\\t-1\\t143.16581920740785\\t3546\\n']\n"
     ]
    }
   ],
   "source": [
    "# ../dat/file..\n",
    "os.getcwd()\n",
    "file_path = os.path.join(os.getcwd(), \"..\", \"data\", \"AccurateMassSearch.mztab\")\n",
    "with open(file_path) as fp:\n",
    "    print(fp.readlines())"
   ]
  },
  {
   "cell_type": "code",
   "execution_count": 25,
   "metadata": {},
   "outputs": [],
   "source": [
    "sourse_tab = MzTab(file_path)\n"
   ]
  },
  {
   "cell_type": "code",
   "execution_count": 26,
   "metadata": {},
   "outputs": [
    {
     "output_type": "execute_result",
     "data": {
      "text/plain": [
       "           identifier chemical_formula  \\\n",
       "0      HMDB:HMDB06202        C18H35NO4   \n",
       "1      HMDB:HMDB13321        C18H35NO4   \n",
       "2      HMDB:HMDB00824        C10H19NO4   \n",
       "3      HMDB:HMDB00870           C5H9N3   \n",
       "4      HMDB:HMDB14417           C5H9N3   \n",
       "...               ...              ...   \n",
       "33459  HMDB:HMDB47245        C69H132O6   \n",
       "33460  HMDB:HMDB35564         C23H44O2   \n",
       "33461  HMDB:HMDB35565         C23H44O2   \n",
       "33462  HMDB:HMDB37781         C32H54O5   \n",
       "33463  HMDB:HMDB32545           C9H21N   \n",
       "\n",
       "                                                  smiles  \\\n",
       "0          CC(C)CCCC(C)CCC(=O)OC(CC([O-])=O)C[N+](C)(C)C   \n",
       "1              CCCCCCCCCCC(=O)OC(CC([O-])=O)C[N+](C)(C)C   \n",
       "2                      CCC(=O)OC(CC([O-])=O)C[N+](C)(C)C   \n",
       "3                                           NCCC1=CNC=N1   \n",
       "4                                           NCCC1=CC=NN1   \n",
       "...                                                  ...   \n",
       "33459  CCCCCCCCCCCCCCCCCCCCCCCC(=O)OCC(COC(=O)CCCCCCC...   \n",
       "33460                    CCCCCCCCCCCCCCCC(=O)CC(=O)CCCCC   \n",
       "33461                    CCCCCCCCCCCCCCCCCC(=O)CC(=O)CCC   \n",
       "33462  CCOC1CC2C(C)(C)C(=O)CCC2(C)C2=C1C1(C)CCC(C(C)C...   \n",
       "33463                                       CCCN(CCC)CCC   \n",
       "\n",
       "                                               inchi_key  \\\n",
       "0      InChI=1S/C18H35NO4/c1-14(2)8-7-9-15(3)10-11-18...   \n",
       "1      InChI=1S/C18H35NO4/c1-5-6-7-8-9-10-11-12-13-18...   \n",
       "2      InChI=1S/C10H19NO4/c1-5-10(14)15-8(6-9(12)13)7...   \n",
       "3      InChI=1S/C5H9N3/c6-2-1-5-3-7-4-8-5/h3-4H,1-2,6...   \n",
       "4      InChI=1S/C5H9N3/c6-3-1-5-2-4-7-8-5/h2,4H,1,3,6...   \n",
       "...                                                  ...   \n",
       "33459  InChI=1S/C69H132O6/c1-4-7-10-13-16-19-22-25-28...   \n",
       "33460  InChI=1S/C23H44O2/c1-3-5-7-8-9-10-11-12-13-14-...   \n",
       "33461  InChI=1S/C23H44O2/c1-3-5-6-7-8-9-10-11-12-13-1...   \n",
       "33462  InChI=1S/C32H54O5/c1-9-37-23-18-24-28(3,4)25(3...   \n",
       "33463  InChI=1S/C9H21N/c1-4-7-10(8-5-2)9-6-3/h4-9H2,1...   \n",
       "\n",
       "                          description  exp_mass_to_charge  \\\n",
       "0      4,8 dimethylnonanoyl carnitine          118.086402   \n",
       "1                 Undecanoylcarnitine          118.086402   \n",
       "2                  Propionylcarnitine          118.086402   \n",
       "3                           Histamine          118.086402   \n",
       "4                            Betazole          118.086402   \n",
       "...                               ...                 ...   \n",
       "33459          TG(24:0/18:1(9Z)/24:0)          353.342967   \n",
       "33460              6,8-Tricosanedione          353.342967   \n",
       "33461              4,6-Tricosanedione          353.342967   \n",
       "33462                    Ganoderiol C          551.432073   \n",
       "33463                  Tripropylamine          325.294797   \n",
       "\n",
       "       calc_mass_to_charge  charge  retention_time taxid  ...  \\\n",
       "0               118.086794       3       19.248310  None  ...   \n",
       "1               118.086794       3       19.248310  None  ...   \n",
       "2               118.086255       2       19.248310  None  ...   \n",
       "3               118.086924       2       19.248310  None  ...   \n",
       "4               118.086924       2       19.248310  None  ...   \n",
       "...                    ...     ...             ...   ...  ...   \n",
       "33459           353.341407       3     1425.360660  None  ...   \n",
       "33460           353.341407       1     1425.360660  None  ...   \n",
       "33461           353.341407       1     1425.360660  None  ...   \n",
       "33462           551.430616       1     1426.586037  None  ...   \n",
       "33463           325.297957       1     1473.985977  None  ...   \n",
       "\n",
       "      smallmolecule_abundance_stdev_study_variable[5]  \\\n",
       "0                                                 0.0   \n",
       "1                                                 0.0   \n",
       "2                                                 0.0   \n",
       "3                                                 0.0   \n",
       "4                                                 0.0   \n",
       "...                                               ...   \n",
       "33459                                             0.0   \n",
       "33460                                             0.0   \n",
       "33461                                             0.0   \n",
       "33462                                             0.0   \n",
       "33463                                             0.0   \n",
       "\n",
       "      smallmolecule_abundance_std_error_study_variable[5]  \\\n",
       "0                                                    0.0    \n",
       "1                                                    0.0    \n",
       "2                                                    0.0    \n",
       "3                                                    0.0    \n",
       "4                                                    0.0    \n",
       "...                                                  ...    \n",
       "33459                                                0.0    \n",
       "33460                                                0.0    \n",
       "33461                                                0.0    \n",
       "33462                                                0.0    \n",
       "33463                                                0.0    \n",
       "\n",
       "       smallmolecule_abundance_study_variable[6]  \\\n",
       "0                                    1161.305054   \n",
       "1                                    1161.305054   \n",
       "2                                    1161.305054   \n",
       "3                                    1161.305054   \n",
       "4                                    1161.305054   \n",
       "...                                          ...   \n",
       "33459                                   0.000000   \n",
       "33460                                   0.000000   \n",
       "33461                                   0.000000   \n",
       "33462                                   0.000000   \n",
       "33463                                   0.000000   \n",
       "\n",
       "      smallmolecule_abundance_stdev_study_variable[6]  \\\n",
       "0                                                 0.0   \n",
       "1                                                 0.0   \n",
       "2                                                 0.0   \n",
       "3                                                 0.0   \n",
       "4                                                 0.0   \n",
       "...                                               ...   \n",
       "33459                                             0.0   \n",
       "33460                                             0.0   \n",
       "33461                                             0.0   \n",
       "33462                                             0.0   \n",
       "33463                                             0.0   \n",
       "\n",
       "      smallmolecule_abundance_std_error_study_variable[6]  \\\n",
       "0                                                    0.0    \n",
       "1                                                    0.0    \n",
       "2                                                    0.0    \n",
       "3                                                    0.0    \n",
       "4                                                    0.0    \n",
       "...                                                  ...    \n",
       "33459                                                0.0    \n",
       "33460                                                0.0    \n",
       "33461                                                0.0    \n",
       "33462                                                0.0    \n",
       "33463                                                0.0    \n",
       "\n",
       "      opt_global_mz_ppm_error opt_global_adduct_ion opt_global_isosim_score  \\\n",
       "0                   -3.324297            M+2H+Na;3+                      -1   \n",
       "1                   -3.324297            M+2H+Na;3+                      -1   \n",
       "2                    1.240337            M+H+NH4;2+                      -1   \n",
       "3                   -4.422419        M+3CH3CN+2H;2+                      -1   \n",
       "4                   -4.422419        M+3CH3CN+2H;2+                      -1   \n",
       "...                       ...                   ...                     ...   \n",
       "33459                4.413998               M+3H;3+                      -1   \n",
       "33460                4.414002                M+H;1+                      -1   \n",
       "33461                4.414002                M+H;1+                      -1   \n",
       "33462                2.641414          M+CH3OH+H;1+                      -1   \n",
       "33463               -9.717058               2M+K;1+                      -1   \n",
       "\n",
       "       opt_global_neutral_mass  opt_global_id_group  \n",
       "0                   329.255431                    1  \n",
       "1                   329.255431                    1  \n",
       "2                   217.131701                    1  \n",
       "3                   111.078603                    1  \n",
       "4                   111.078603                    1  \n",
       "...                        ...                  ...  \n",
       "33459              1057.007071                 3540  \n",
       "33460               352.335690                 3540  \n",
       "33461               352.335690                 3540  \n",
       "33462               518.398581                 3541  \n",
       "33463               143.165819                 3546  \n",
       "\n",
       "[33464 rows x 41 columns]"
      ],
      "text/html": "<div>\n<style scoped>\n    .dataframe tbody tr th:only-of-type {\n        vertical-align: middle;\n    }\n\n    .dataframe tbody tr th {\n        vertical-align: top;\n    }\n\n    .dataframe thead th {\n        text-align: right;\n    }\n</style>\n<table border=\"1\" class=\"dataframe\">\n  <thead>\n    <tr style=\"text-align: right;\">\n      <th></th>\n      <th>identifier</th>\n      <th>chemical_formula</th>\n      <th>smiles</th>\n      <th>inchi_key</th>\n      <th>description</th>\n      <th>exp_mass_to_charge</th>\n      <th>calc_mass_to_charge</th>\n      <th>charge</th>\n      <th>retention_time</th>\n      <th>taxid</th>\n      <th>...</th>\n      <th>smallmolecule_abundance_stdev_study_variable[5]</th>\n      <th>smallmolecule_abundance_std_error_study_variable[5]</th>\n      <th>smallmolecule_abundance_study_variable[6]</th>\n      <th>smallmolecule_abundance_stdev_study_variable[6]</th>\n      <th>smallmolecule_abundance_std_error_study_variable[6]</th>\n      <th>opt_global_mz_ppm_error</th>\n      <th>opt_global_adduct_ion</th>\n      <th>opt_global_isosim_score</th>\n      <th>opt_global_neutral_mass</th>\n      <th>opt_global_id_group</th>\n    </tr>\n  </thead>\n  <tbody>\n    <tr>\n      <th>0</th>\n      <td>HMDB:HMDB06202</td>\n      <td>C18H35NO4</td>\n      <td>CC(C)CCCC(C)CCC(=O)OC(CC([O-])=O)C[N+](C)(C)C</td>\n      <td>InChI=1S/C18H35NO4/c1-14(2)8-7-9-15(3)10-11-18...</td>\n      <td>4,8 dimethylnonanoyl carnitine</td>\n      <td>118.086402</td>\n      <td>118.086794</td>\n      <td>3</td>\n      <td>19.248310</td>\n      <td>None</td>\n      <td>...</td>\n      <td>0.0</td>\n      <td>0.0</td>\n      <td>1161.305054</td>\n      <td>0.0</td>\n      <td>0.0</td>\n      <td>-3.324297</td>\n      <td>M+2H+Na;3+</td>\n      <td>-1</td>\n      <td>329.255431</td>\n      <td>1</td>\n    </tr>\n    <tr>\n      <th>1</th>\n      <td>HMDB:HMDB13321</td>\n      <td>C18H35NO4</td>\n      <td>CCCCCCCCCCC(=O)OC(CC([O-])=O)C[N+](C)(C)C</td>\n      <td>InChI=1S/C18H35NO4/c1-5-6-7-8-9-10-11-12-13-18...</td>\n      <td>Undecanoylcarnitine</td>\n      <td>118.086402</td>\n      <td>118.086794</td>\n      <td>3</td>\n      <td>19.248310</td>\n      <td>None</td>\n      <td>...</td>\n      <td>0.0</td>\n      <td>0.0</td>\n      <td>1161.305054</td>\n      <td>0.0</td>\n      <td>0.0</td>\n      <td>-3.324297</td>\n      <td>M+2H+Na;3+</td>\n      <td>-1</td>\n      <td>329.255431</td>\n      <td>1</td>\n    </tr>\n    <tr>\n      <th>2</th>\n      <td>HMDB:HMDB00824</td>\n      <td>C10H19NO4</td>\n      <td>CCC(=O)OC(CC([O-])=O)C[N+](C)(C)C</td>\n      <td>InChI=1S/C10H19NO4/c1-5-10(14)15-8(6-9(12)13)7...</td>\n      <td>Propionylcarnitine</td>\n      <td>118.086402</td>\n      <td>118.086255</td>\n      <td>2</td>\n      <td>19.248310</td>\n      <td>None</td>\n      <td>...</td>\n      <td>0.0</td>\n      <td>0.0</td>\n      <td>1161.305054</td>\n      <td>0.0</td>\n      <td>0.0</td>\n      <td>1.240337</td>\n      <td>M+H+NH4;2+</td>\n      <td>-1</td>\n      <td>217.131701</td>\n      <td>1</td>\n    </tr>\n    <tr>\n      <th>3</th>\n      <td>HMDB:HMDB00870</td>\n      <td>C5H9N3</td>\n      <td>NCCC1=CNC=N1</td>\n      <td>InChI=1S/C5H9N3/c6-2-1-5-3-7-4-8-5/h3-4H,1-2,6...</td>\n      <td>Histamine</td>\n      <td>118.086402</td>\n      <td>118.086924</td>\n      <td>2</td>\n      <td>19.248310</td>\n      <td>None</td>\n      <td>...</td>\n      <td>0.0</td>\n      <td>0.0</td>\n      <td>1161.305054</td>\n      <td>0.0</td>\n      <td>0.0</td>\n      <td>-4.422419</td>\n      <td>M+3CH3CN+2H;2+</td>\n      <td>-1</td>\n      <td>111.078603</td>\n      <td>1</td>\n    </tr>\n    <tr>\n      <th>4</th>\n      <td>HMDB:HMDB14417</td>\n      <td>C5H9N3</td>\n      <td>NCCC1=CC=NN1</td>\n      <td>InChI=1S/C5H9N3/c6-3-1-5-2-4-7-8-5/h2,4H,1,3,6...</td>\n      <td>Betazole</td>\n      <td>118.086402</td>\n      <td>118.086924</td>\n      <td>2</td>\n      <td>19.248310</td>\n      <td>None</td>\n      <td>...</td>\n      <td>0.0</td>\n      <td>0.0</td>\n      <td>1161.305054</td>\n      <td>0.0</td>\n      <td>0.0</td>\n      <td>-4.422419</td>\n      <td>M+3CH3CN+2H;2+</td>\n      <td>-1</td>\n      <td>111.078603</td>\n      <td>1</td>\n    </tr>\n    <tr>\n      <th>...</th>\n      <td>...</td>\n      <td>...</td>\n      <td>...</td>\n      <td>...</td>\n      <td>...</td>\n      <td>...</td>\n      <td>...</td>\n      <td>...</td>\n      <td>...</td>\n      <td>...</td>\n      <td>...</td>\n      <td>...</td>\n      <td>...</td>\n      <td>...</td>\n      <td>...</td>\n      <td>...</td>\n      <td>...</td>\n      <td>...</td>\n      <td>...</td>\n      <td>...</td>\n      <td>...</td>\n    </tr>\n    <tr>\n      <th>33459</th>\n      <td>HMDB:HMDB47245</td>\n      <td>C69H132O6</td>\n      <td>CCCCCCCCCCCCCCCCCCCCCCCC(=O)OCC(COC(=O)CCCCCCC...</td>\n      <td>InChI=1S/C69H132O6/c1-4-7-10-13-16-19-22-25-28...</td>\n      <td>TG(24:0/18:1(9Z)/24:0)</td>\n      <td>353.342967</td>\n      <td>353.341407</td>\n      <td>3</td>\n      <td>1425.360660</td>\n      <td>None</td>\n      <td>...</td>\n      <td>0.0</td>\n      <td>0.0</td>\n      <td>0.000000</td>\n      <td>0.0</td>\n      <td>0.0</td>\n      <td>4.413998</td>\n      <td>M+3H;3+</td>\n      <td>-1</td>\n      <td>1057.007071</td>\n      <td>3540</td>\n    </tr>\n    <tr>\n      <th>33460</th>\n      <td>HMDB:HMDB35564</td>\n      <td>C23H44O2</td>\n      <td>CCCCCCCCCCCCCCCC(=O)CC(=O)CCCCC</td>\n      <td>InChI=1S/C23H44O2/c1-3-5-7-8-9-10-11-12-13-14-...</td>\n      <td>6,8-Tricosanedione</td>\n      <td>353.342967</td>\n      <td>353.341407</td>\n      <td>1</td>\n      <td>1425.360660</td>\n      <td>None</td>\n      <td>...</td>\n      <td>0.0</td>\n      <td>0.0</td>\n      <td>0.000000</td>\n      <td>0.0</td>\n      <td>0.0</td>\n      <td>4.414002</td>\n      <td>M+H;1+</td>\n      <td>-1</td>\n      <td>352.335690</td>\n      <td>3540</td>\n    </tr>\n    <tr>\n      <th>33461</th>\n      <td>HMDB:HMDB35565</td>\n      <td>C23H44O2</td>\n      <td>CCCCCCCCCCCCCCCCCC(=O)CC(=O)CCC</td>\n      <td>InChI=1S/C23H44O2/c1-3-5-6-7-8-9-10-11-12-13-1...</td>\n      <td>4,6-Tricosanedione</td>\n      <td>353.342967</td>\n      <td>353.341407</td>\n      <td>1</td>\n      <td>1425.360660</td>\n      <td>None</td>\n      <td>...</td>\n      <td>0.0</td>\n      <td>0.0</td>\n      <td>0.000000</td>\n      <td>0.0</td>\n      <td>0.0</td>\n      <td>4.414002</td>\n      <td>M+H;1+</td>\n      <td>-1</td>\n      <td>352.335690</td>\n      <td>3540</td>\n    </tr>\n    <tr>\n      <th>33462</th>\n      <td>HMDB:HMDB37781</td>\n      <td>C32H54O5</td>\n      <td>CCOC1CC2C(C)(C)C(=O)CCC2(C)C2=C1C1(C)CCC(C(C)C...</td>\n      <td>InChI=1S/C32H54O5/c1-9-37-23-18-24-28(3,4)25(3...</td>\n      <td>Ganoderiol C</td>\n      <td>551.432073</td>\n      <td>551.430616</td>\n      <td>1</td>\n      <td>1426.586037</td>\n      <td>None</td>\n      <td>...</td>\n      <td>0.0</td>\n      <td>0.0</td>\n      <td>0.000000</td>\n      <td>0.0</td>\n      <td>0.0</td>\n      <td>2.641414</td>\n      <td>M+CH3OH+H;1+</td>\n      <td>-1</td>\n      <td>518.398581</td>\n      <td>3541</td>\n    </tr>\n    <tr>\n      <th>33463</th>\n      <td>HMDB:HMDB32545</td>\n      <td>C9H21N</td>\n      <td>CCCN(CCC)CCC</td>\n      <td>InChI=1S/C9H21N/c1-4-7-10(8-5-2)9-6-3/h4-9H2,1...</td>\n      <td>Tripropylamine</td>\n      <td>325.294797</td>\n      <td>325.297957</td>\n      <td>1</td>\n      <td>1473.985977</td>\n      <td>None</td>\n      <td>...</td>\n      <td>0.0</td>\n      <td>0.0</td>\n      <td>0.000000</td>\n      <td>0.0</td>\n      <td>0.0</td>\n      <td>-9.717058</td>\n      <td>2M+K;1+</td>\n      <td>-1</td>\n      <td>143.165819</td>\n      <td>3546</td>\n    </tr>\n  </tbody>\n</table>\n<p>33464 rows × 41 columns</p>\n</div>"
     },
     "metadata": {},
     "execution_count": 26
    }
   ],
   "source": [
    "sourse_tab.small_molecule_table\n"
   ]
  },
  {
   "cell_type": "code",
   "execution_count": 36,
   "metadata": {},
   "outputs": [],
   "source": [
    "def read_mzTab(path):\n",
    "    mzTab = MzTab(path)\n",
    "    return mzTab"
   ]
  },
  {
   "cell_type": "code",
   "execution_count": 40,
   "metadata": {},
   "outputs": [
    {
     "output_type": "execute_result",
     "data": {
      "text/plain": [
       "<pyteomics.mztab.MzTab at 0x1809a5fd4c8>"
      ]
     },
     "metadata": {},
     "execution_count": 40
    }
   ],
   "source": [
    "read_mzTab(file_path)"
   ]
  },
  {
   "cell_type": "code",
   "execution_count": 44,
   "metadata": {},
   "outputs": [],
   "source": [
    "sml = read_mzTab(file_path).small_molecule_table"
   ]
  },
  {
   "cell_type": "code",
   "execution_count": 46,
   "metadata": {},
   "outputs": [],
   "source": [
    "columnFilterOnSML = sml[[\"identifier\", \"chemical_formula\", \"smiles\", \"description\", \"exp_mass_to_charge\", \"calc_mass_to_charge\", \"charge\", \"retention_time\", \"opt_global_id_group\"]]"
   ]
  },
  {
   "cell_type": "code",
   "execution_count": 47,
   "metadata": {},
   "outputs": [
    {
     "output_type": "execute_result",
     "data": {
      "text/plain": [
       "           identifier chemical_formula  \\\n",
       "0      HMDB:HMDB06202        C18H35NO4   \n",
       "1      HMDB:HMDB13321        C18H35NO4   \n",
       "2      HMDB:HMDB00824        C10H19NO4   \n",
       "3      HMDB:HMDB00870           C5H9N3   \n",
       "4      HMDB:HMDB14417           C5H9N3   \n",
       "...               ...              ...   \n",
       "33459  HMDB:HMDB47245        C69H132O6   \n",
       "33460  HMDB:HMDB35564         C23H44O2   \n",
       "33461  HMDB:HMDB35565         C23H44O2   \n",
       "33462  HMDB:HMDB37781         C32H54O5   \n",
       "33463  HMDB:HMDB32545           C9H21N   \n",
       "\n",
       "                                                  smiles  \\\n",
       "0          CC(C)CCCC(C)CCC(=O)OC(CC([O-])=O)C[N+](C)(C)C   \n",
       "1              CCCCCCCCCCC(=O)OC(CC([O-])=O)C[N+](C)(C)C   \n",
       "2                      CCC(=O)OC(CC([O-])=O)C[N+](C)(C)C   \n",
       "3                                           NCCC1=CNC=N1   \n",
       "4                                           NCCC1=CC=NN1   \n",
       "...                                                  ...   \n",
       "33459  CCCCCCCCCCCCCCCCCCCCCCCC(=O)OCC(COC(=O)CCCCCCC...   \n",
       "33460                    CCCCCCCCCCCCCCCC(=O)CC(=O)CCCCC   \n",
       "33461                    CCCCCCCCCCCCCCCCCC(=O)CC(=O)CCC   \n",
       "33462  CCOC1CC2C(C)(C)C(=O)CCC2(C)C2=C1C1(C)CCC(C(C)C...   \n",
       "33463                                       CCCN(CCC)CCC   \n",
       "\n",
       "                          description  exp_mass_to_charge  \\\n",
       "0      4,8 dimethylnonanoyl carnitine          118.086402   \n",
       "1                 Undecanoylcarnitine          118.086402   \n",
       "2                  Propionylcarnitine          118.086402   \n",
       "3                           Histamine          118.086402   \n",
       "4                            Betazole          118.086402   \n",
       "...                               ...                 ...   \n",
       "33459          TG(24:0/18:1(9Z)/24:0)          353.342967   \n",
       "33460              6,8-Tricosanedione          353.342967   \n",
       "33461              4,6-Tricosanedione          353.342967   \n",
       "33462                    Ganoderiol C          551.432073   \n",
       "33463                  Tripropylamine          325.294797   \n",
       "\n",
       "       calc_mass_to_charge  charge  retention_time  opt_global_id_group  \n",
       "0               118.086794       3       19.248310                    1  \n",
       "1               118.086794       3       19.248310                    1  \n",
       "2               118.086255       2       19.248310                    1  \n",
       "3               118.086924       2       19.248310                    1  \n",
       "4               118.086924       2       19.248310                    1  \n",
       "...                    ...     ...             ...                  ...  \n",
       "33459           353.341407       3     1425.360660                 3540  \n",
       "33460           353.341407       1     1425.360660                 3540  \n",
       "33461           353.341407       1     1425.360660                 3540  \n",
       "33462           551.430616       1     1426.586037                 3541  \n",
       "33463           325.297957       1     1473.985977                 3546  \n",
       "\n",
       "[33464 rows x 9 columns]"
      ],
      "text/html": "<div>\n<style scoped>\n    .dataframe tbody tr th:only-of-type {\n        vertical-align: middle;\n    }\n\n    .dataframe tbody tr th {\n        vertical-align: top;\n    }\n\n    .dataframe thead th {\n        text-align: right;\n    }\n</style>\n<table border=\"1\" class=\"dataframe\">\n  <thead>\n    <tr style=\"text-align: right;\">\n      <th></th>\n      <th>identifier</th>\n      <th>chemical_formula</th>\n      <th>smiles</th>\n      <th>description</th>\n      <th>exp_mass_to_charge</th>\n      <th>calc_mass_to_charge</th>\n      <th>charge</th>\n      <th>retention_time</th>\n      <th>opt_global_id_group</th>\n    </tr>\n  </thead>\n  <tbody>\n    <tr>\n      <th>0</th>\n      <td>HMDB:HMDB06202</td>\n      <td>C18H35NO4</td>\n      <td>CC(C)CCCC(C)CCC(=O)OC(CC([O-])=O)C[N+](C)(C)C</td>\n      <td>4,8 dimethylnonanoyl carnitine</td>\n      <td>118.086402</td>\n      <td>118.086794</td>\n      <td>3</td>\n      <td>19.248310</td>\n      <td>1</td>\n    </tr>\n    <tr>\n      <th>1</th>\n      <td>HMDB:HMDB13321</td>\n      <td>C18H35NO4</td>\n      <td>CCCCCCCCCCC(=O)OC(CC([O-])=O)C[N+](C)(C)C</td>\n      <td>Undecanoylcarnitine</td>\n      <td>118.086402</td>\n      <td>118.086794</td>\n      <td>3</td>\n      <td>19.248310</td>\n      <td>1</td>\n    </tr>\n    <tr>\n      <th>2</th>\n      <td>HMDB:HMDB00824</td>\n      <td>C10H19NO4</td>\n      <td>CCC(=O)OC(CC([O-])=O)C[N+](C)(C)C</td>\n      <td>Propionylcarnitine</td>\n      <td>118.086402</td>\n      <td>118.086255</td>\n      <td>2</td>\n      <td>19.248310</td>\n      <td>1</td>\n    </tr>\n    <tr>\n      <th>3</th>\n      <td>HMDB:HMDB00870</td>\n      <td>C5H9N3</td>\n      <td>NCCC1=CNC=N1</td>\n      <td>Histamine</td>\n      <td>118.086402</td>\n      <td>118.086924</td>\n      <td>2</td>\n      <td>19.248310</td>\n      <td>1</td>\n    </tr>\n    <tr>\n      <th>4</th>\n      <td>HMDB:HMDB14417</td>\n      <td>C5H9N3</td>\n      <td>NCCC1=CC=NN1</td>\n      <td>Betazole</td>\n      <td>118.086402</td>\n      <td>118.086924</td>\n      <td>2</td>\n      <td>19.248310</td>\n      <td>1</td>\n    </tr>\n    <tr>\n      <th>...</th>\n      <td>...</td>\n      <td>...</td>\n      <td>...</td>\n      <td>...</td>\n      <td>...</td>\n      <td>...</td>\n      <td>...</td>\n      <td>...</td>\n      <td>...</td>\n    </tr>\n    <tr>\n      <th>33459</th>\n      <td>HMDB:HMDB47245</td>\n      <td>C69H132O6</td>\n      <td>CCCCCCCCCCCCCCCCCCCCCCCC(=O)OCC(COC(=O)CCCCCCC...</td>\n      <td>TG(24:0/18:1(9Z)/24:0)</td>\n      <td>353.342967</td>\n      <td>353.341407</td>\n      <td>3</td>\n      <td>1425.360660</td>\n      <td>3540</td>\n    </tr>\n    <tr>\n      <th>33460</th>\n      <td>HMDB:HMDB35564</td>\n      <td>C23H44O2</td>\n      <td>CCCCCCCCCCCCCCCC(=O)CC(=O)CCCCC</td>\n      <td>6,8-Tricosanedione</td>\n      <td>353.342967</td>\n      <td>353.341407</td>\n      <td>1</td>\n      <td>1425.360660</td>\n      <td>3540</td>\n    </tr>\n    <tr>\n      <th>33461</th>\n      <td>HMDB:HMDB35565</td>\n      <td>C23H44O2</td>\n      <td>CCCCCCCCCCCCCCCCCC(=O)CC(=O)CCC</td>\n      <td>4,6-Tricosanedione</td>\n      <td>353.342967</td>\n      <td>353.341407</td>\n      <td>1</td>\n      <td>1425.360660</td>\n      <td>3540</td>\n    </tr>\n    <tr>\n      <th>33462</th>\n      <td>HMDB:HMDB37781</td>\n      <td>C32H54O5</td>\n      <td>CCOC1CC2C(C)(C)C(=O)CCC2(C)C2=C1C1(C)CCC(C(C)C...</td>\n      <td>Ganoderiol C</td>\n      <td>551.432073</td>\n      <td>551.430616</td>\n      <td>1</td>\n      <td>1426.586037</td>\n      <td>3541</td>\n    </tr>\n    <tr>\n      <th>33463</th>\n      <td>HMDB:HMDB32545</td>\n      <td>C9H21N</td>\n      <td>CCCN(CCC)CCC</td>\n      <td>Tripropylamine</td>\n      <td>325.294797</td>\n      <td>325.297957</td>\n      <td>1</td>\n      <td>1473.985977</td>\n      <td>3546</td>\n    </tr>\n  </tbody>\n</table>\n<p>33464 rows × 9 columns</p>\n</div>"
     },
     "metadata": {},
     "execution_count": 47
    }
   ],
   "source": [
    "columnFilterOnSML"
   ]
  },
  {
   "cell_type": "code",
   "execution_count": 52,
   "metadata": {},
   "outputs": [],
   "source": [
    "l = [1, 2, 3, \"a\", [1, 2,]]"
   ]
  },
  {
   "cell_type": "code",
   "execution_count": 60,
   "metadata": {},
   "outputs": [
    {
     "output_type": "execute_result",
     "data": {
      "text/plain": [
       "[[1, 2], 'a', 3, 2, 1]"
      ]
     },
     "metadata": {},
     "execution_count": 60
    }
   ],
   "source": [
    "l[::-1]"
   ]
  },
  {
   "cell_type": "code",
   "execution_count": 65,
   "metadata": {},
   "outputs": [],
   "source": [
    "d = {\"a\": 1, \"b\": {\"c\": 1}}"
   ]
  },
  {
   "cell_type": "code",
   "execution_count": 78,
   "metadata": {},
   "outputs": [],
   "source": [
    "t = (1, \"a\", 1)"
   ]
  },
  {
   "cell_type": "code",
   "execution_count": 79,
   "metadata": {},
   "outputs": [
    {
     "output_type": "execute_result",
     "data": {
      "text/plain": [
       "1"
      ]
     },
     "metadata": {},
     "execution_count": 79
    }
   ],
   "source": [
    "t[0]"
   ]
  },
  {
   "cell_type": "code",
   "execution_count": 80,
   "metadata": {},
   "outputs": [],
   "source": [
    "l[2] = 11"
   ]
  },
  {
   "cell_type": "code",
   "execution_count": 81,
   "metadata": {},
   "outputs": [
    {
     "output_type": "execute_result",
     "data": {
      "text/plain": [
       "[1, 2, 11, 'a', [1, 2]]"
      ]
     },
     "metadata": {},
     "execution_count": 81
    }
   ],
   "source": [
    "l"
   ]
  },
  {
   "cell_type": "code",
   "execution_count": 82,
   "metadata": {},
   "outputs": [
    {
     "output_type": "error",
     "ename": "TypeError",
     "evalue": "'tuple' object does not support item assignment",
     "traceback": [
      "\u001b[1;31m---------------------------------------------------------------------------\u001b[0m",
      "\u001b[1;31mTypeError\u001b[0m                                 Traceback (most recent call last)",
      "\u001b[1;32m<ipython-input-82-0c6697a06bab>\u001b[0m in \u001b[0;36m<module>\u001b[1;34m\u001b[0m\n\u001b[1;32m----> 1\u001b[1;33m \u001b[0mt\u001b[0m\u001b[1;33m[\u001b[0m\u001b[1;36m0\u001b[0m\u001b[1;33m]\u001b[0m \u001b[1;33m=\u001b[0m \u001b[1;36m2\u001b[0m\u001b[1;33m\u001b[0m\u001b[1;33m\u001b[0m\u001b[0m\n\u001b[0m",
      "\u001b[1;31mTypeError\u001b[0m: 'tuple' object does not support item assignment"
     ]
    }
   ],
   "source": [
    "t[0] = 2"
   ]
  },
  {
   "cell_type": "code",
   "execution_count": 83,
   "metadata": {},
   "outputs": [],
   "source": [
    "s = \"abc\""
   ]
  },
  {
   "cell_type": "code",
   "execution_count": 85,
   "metadata": {},
   "outputs": [
    {
     "output_type": "error",
     "ename": "TypeError",
     "evalue": "'str' object does not support item assignment",
     "traceback": [
      "\u001b[1;31m---------------------------------------------------------------------------\u001b[0m",
      "\u001b[1;31mTypeError\u001b[0m                                 Traceback (most recent call last)",
      "\u001b[1;32m<ipython-input-85-ff8d72ff8633>\u001b[0m in \u001b[0;36m<module>\u001b[1;34m\u001b[0m\n\u001b[1;32m----> 1\u001b[1;33m \u001b[0ms\u001b[0m\u001b[1;33m[\u001b[0m\u001b[1;36m0\u001b[0m\u001b[1;33m]\u001b[0m \u001b[1;33m=\u001b[0m \u001b[1;34m\"a\"\u001b[0m\u001b[1;33m\u001b[0m\u001b[1;33m\u001b[0m\u001b[0m\n\u001b[0m",
      "\u001b[1;31mTypeError\u001b[0m: 'str' object does not support item assignment"
     ]
    }
   ],
   "source": [
    "s[0] = \"a\""
   ]
  },
  {
   "cell_type": "code",
   "execution_count": 86,
   "metadata": {},
   "outputs": [
    {
     "output_type": "execute_result",
     "data": {
      "text/plain": [
       "0        HMDB:HMDB06202\n",
       "1        HMDB:HMDB13321\n",
       "2        HMDB:HMDB00824\n",
       "3        HMDB:HMDB00870\n",
       "4        HMDB:HMDB14417\n",
       "              ...      \n",
       "33459    HMDB:HMDB47245\n",
       "33460    HMDB:HMDB35564\n",
       "33461    HMDB:HMDB35565\n",
       "33462    HMDB:HMDB37781\n",
       "33463    HMDB:HMDB32545\n",
       "Name: identifier, Length: 33464, dtype: object"
      ]
     },
     "metadata": {},
     "execution_count": 86
    }
   ],
   "source": [
    "sml[\"identifier\"]"
   ]
  },
  {
   "cell_type": "code",
   "execution_count": null,
   "metadata": {},
   "outputs": [],
   "source": [
    "{\"column)name\": [.....]}"
   ]
  }
 ]
}